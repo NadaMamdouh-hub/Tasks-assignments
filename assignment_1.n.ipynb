{
 "cells": [
  {
   "cell_type": "code",
   "execution_count": 2,
   "id": "b083a709",
   "metadata": {},
   "outputs": [
    {
     "name": "stdout",
     "output_type": "stream",
     "text": [
      "<class 'int'>\n"
     ]
    }
   ],
   "source": [
    "x = 5\n",
    "print(type(x))"
   ]
  },
  {
   "cell_type": "code",
   "execution_count": 3,
   "id": "7b20626a",
   "metadata": {},
   "outputs": [
    {
     "name": "stdout",
     "output_type": "stream",
     "text": [
      "<class 'str'>\n"
     ]
    }
   ],
   "source": [
    " x = \"Hello World\"\n",
    " print(type(x))\n"
   ]
  },
  {
   "cell_type": "code",
   "execution_count": 4,
   "id": "e0e24ccd",
   "metadata": {},
   "outputs": [
    {
     "name": "stdout",
     "output_type": "stream",
     "text": [
      "<class 'float'>\n"
     ]
    }
   ],
   "source": [
    " x = 20.5\n",
    " print(type(x))"
   ]
  },
  {
   "cell_type": "code",
   "execution_count": 5,
   "id": "34e34324",
   "metadata": {},
   "outputs": [
    {
     "name": "stdout",
     "output_type": "stream",
     "text": [
      "<class 'list'>\n"
     ]
    }
   ],
   "source": [
    " x = [\"apple\", \"banana\", \"cherry\"]\n",
    " print(type(x))"
   ]
  },
  {
   "cell_type": "code",
   "execution_count": 6,
   "id": "60c50fb6",
   "metadata": {
    "scrolled": true
   },
   "outputs": [
    {
     "name": "stdout",
     "output_type": "stream",
     "text": [
      "<class 'tuple'>\n"
     ]
    }
   ],
   "source": [
    " x = (\"apple\", \"banana\", \"cherry\")\n",
    " print(type(x))"
   ]
  },
  {
   "cell_type": "code",
   "execution_count": 7,
   "id": "a46e667b",
   "metadata": {},
   "outputs": [
    {
     "name": "stdout",
     "output_type": "stream",
     "text": [
      "<class 'dict'>\n"
     ]
    }
   ],
   "source": [
    " x = {\"name\" : \"John\", \"age\" : 36}\n",
    " print(type(x))"
   ]
  },
  {
   "cell_type": "code",
   "execution_count": 8,
   "id": "c5c986c4",
   "metadata": {},
   "outputs": [
    {
     "name": "stdout",
     "output_type": "stream",
     "text": [
      "<class 'bool'>\n"
     ]
    }
   ],
   "source": [
    " x = True\n",
    " print(type(x))"
   ]
  },
  {
   "cell_type": "code",
   "execution_count": 17,
   "id": "24427e67",
   "metadata": {},
   "outputs": [
    {
     "name": "stdout",
     "output_type": "stream",
     "text": [
      "(5.5, 5)\n"
     ]
    }
   ],
   "source": [
    "x = 5\n",
    "x = 5.5,(x)\n",
    "print(x)"
   ]
  },
  {
   "cell_type": "code",
   "execution_count": 19,
   "id": "a8878808",
   "metadata": {},
   "outputs": [
    {
     "name": "stdout",
     "output_type": "stream",
     "text": [
      "(5, 5.5)\n"
     ]
    }
   ],
   "source": [
    " x = 5.5\n",
    " x =5,(x)\n",
    " print(x)"
   ]
  },
  {
   "cell_type": "code",
   "execution_count": 25,
   "id": "e9312dff",
   "metadata": {},
   "outputs": [
    {
     "name": "stdout",
     "output_type": "stream",
     "text": [
      "11\n"
     ]
    }
   ],
   "source": [
    " x = \"Hello World\"\n",
    " print(len(\"Hello World\"))"
   ]
  },
  {
   "cell_type": "code",
   "execution_count": 33,
   "id": "f0a749c7",
   "metadata": {},
   "outputs": [
    {
     "name": "stdout",
     "output_type": "stream",
     "text": [
      "H\n"
     ]
    }
   ],
   "source": [
    " txt = \"Hello World\"\n",
    " x = txt[0]\n",
    "print(txt[0])"
   ]
  },
  {
   "cell_type": "code",
   "execution_count": 42,
   "id": "da8ba832",
   "metadata": {},
   "outputs": [
    {
     "name": "stdout",
     "output_type": "stream",
     "text": [
      "llo\n"
     ]
    }
   ],
   "source": [
    " txt = \"Hello World\"\n",
    " print(txt[2:5])"
   ]
  },
  {
   "cell_type": "code",
   "execution_count": 48,
   "id": "bf9650ad",
   "metadata": {},
   "outputs": [
    {
     "name": "stdout",
     "output_type": "stream",
     "text": [
      " Jello World \n"
     ]
    }
   ],
   "source": [
    " txt = \" Hello World \"\n",
    " x = txt.replace(\"H\",\"J\")\n",
    "print(txt.replace(\"H\",\"J\"))"
   ]
  },
  {
   "cell_type": "code",
   "execution_count": 55,
   "id": "cab841a7",
   "metadata": {},
   "outputs": [
    {
     "name": "stdout",
     "output_type": "stream",
     "text": [
      "Hello World\n"
     ]
    }
   ],
   "source": [
    " txt = \" Hello World \"\n",
    " x =txt.strip(\" \")\n",
    "print(txt.strip(\" \"))"
   ]
  },
  {
   "cell_type": "code",
   "execution_count": 56,
   "id": "e7da7037",
   "metadata": {},
   "outputs": [
    {
     "name": "stdout",
     "output_type": "stream",
     "text": [
      "HELLO WORLD\n"
     ]
    }
   ],
   "source": [
    " txt = \"Hello World\"\n",
    " txt = txt.upper()\n",
    " print(txt.upper())\n"
   ]
  },
  {
   "cell_type": "code",
   "execution_count": 57,
   "id": "458d3c5f",
   "metadata": {},
   "outputs": [
    {
     "name": "stdout",
     "output_type": "stream",
     "text": [
      "hello world\n"
     ]
    }
   ],
   "source": [
    " txt = \"Hello World\"\n",
    " txt = txt.lower()\n",
    " print(txt.lower())"
   ]
  },
  {
   "cell_type": "code",
   "execution_count": 58,
   "id": "49ed058c",
   "metadata": {},
   "outputs": [
    {
     "name": "stdout",
     "output_type": "stream",
     "text": [
      "My name is John, and I am 36\n"
     ]
    }
   ],
   "source": [
    " age = 36\n",
    " txt = f\"My name is John, and I am 36\"\n",
    " print(txt)"
   ]
  },
  {
   "cell_type": "code",
   "execution_count": 62,
   "id": "321f992f",
   "metadata": {},
   "outputs": [
    {
     "name": "stdout",
     "output_type": "stream",
     "text": [
      "True\n"
     ]
    }
   ],
   "source": [
    " print(10 > 9)"
   ]
  },
  {
   "cell_type": "code",
   "execution_count": 63,
   "id": "5e93c24e",
   "metadata": {},
   "outputs": [
    {
     "name": "stdout",
     "output_type": "stream",
     "text": [
      "False\n"
     ]
    }
   ],
   "source": [
    " print(10 == 9)"
   ]
  },
  {
   "cell_type": "code",
   "execution_count": 64,
   "id": "71a8108b",
   "metadata": {},
   "outputs": [
    {
     "name": "stdout",
     "output_type": "stream",
     "text": [
      "False\n"
     ]
    }
   ],
   "source": [
    " print(10 < 9)"
   ]
  },
  {
   "cell_type": "code",
   "execution_count": 84,
   "id": "0a751179",
   "metadata": {},
   "outputs": [
    {
     "name": "stdout",
     "output_type": "stream",
     "text": [
      "winkle, twinkle, little star,\n",
      "  How I wonder what you are!\n",
      "    Up above the world so high,\n",
      "    Like a diamond in the sky.\n",
      "  Twinkle, twinkle, little star,\n",
      "  How I wonder what you are!\n"
     ]
    }
   ],
   "source": [
    "def print_poem():\n",
    "    poem = \"\"\"winkle, twinkle, little star,\n",
    "  How I wonder what you are!\n",
    "    Up above the world so high,\n",
    "    Like a diamond in the sky.\n",
    "  Twinkle, twinkle, little star,\n",
    "  How I wonder what you are!\"\"\"\n",
    "    \n",
    "    print(poem)\n",
    "\n",
    "print_poem()"
   ]
  },
  {
   "cell_type": "code",
   "execution_count": 85,
   "id": "61b39e62",
   "metadata": {},
   "outputs": [
    {
     "name": "stdout",
     "output_type": "stream",
     "text": [
      "Enter your first name: nada\n",
      "Enter your last name: mamdouh\n",
      "mamdouh nada\n"
     ]
    }
   ],
   "source": [
    "def main():\n",
    "    # Read the user's first and last name\n",
    "    first_name = input(\"Enter your first name: \")\n",
    "    last_name = input(\"Enter your last name: \")\n",
    "    \n",
    "    # Reverse the order and print with a space between\n",
    "    print(f\"{last_name} {first_name}\")\n",
    "\n",
    "# Run the main function\n",
    "main()\n",
    "    "
   ]
  },
  {
   "cell_type": "code",
   "execution_count": 92,
   "id": "cde1c557",
   "metadata": {},
   "outputs": [],
   "source": [
    "r=1.1\n",
    "area=3.14 *r**2"
   ]
  },
  {
   "cell_type": "code",
   "execution_count": 93,
   "id": "a6d2c826",
   "metadata": {},
   "outputs": [
    {
     "name": "stdout",
     "output_type": "stream",
     "text": [
      "py\n"
     ]
    }
   ],
   "source": [
    "filename=\"abc.py\"\n",
    "f_exts=filename.split(\".\")\n",
    "print(f_exts[-1])"
   ]
  },
  {
   "cell_type": "code",
   "execution_count": 94,
   "id": "c9a0b3b0",
   "metadata": {},
   "outputs": [
    {
     "name": "stdout",
     "output_type": "stream",
     "text": [
      "String: Amit\n",
      "List: ['A', 'm', 'i', 't']\n",
      "Tuple: ('A', 'm', 'i', 't')\n"
     ]
    }
   ],
   "source": [
    "value = \"Amit\"\n",
    "list_value = list(value)\n",
    "tuple_value = tuple(value)\n",
    "\n",
    "print(f\"String: {value}\")\n",
    "print(f\"List: {list_value}\")\n",
    "print(f\"Tuple: {tuple_value}\")"
   ]
  },
  {
   "cell_type": "code",
   "execution_count": 95,
   "id": "5b2760a3",
   "metadata": {},
   "outputs": [
    {
     "name": "stdout",
     "output_type": "stream",
     "text": [
      "Updated list: ['A', 'm', 'i', 'X']\n"
     ]
    }
   ],
   "source": [
    "value = \"Amit\"\n",
    "list_value = list(value)\n",
    "new_value = 'X'  # The new value you want to insert\n",
    "list_value[3] = new_value\n",
    "print(f\"Updated list: {list_value}\")"
   ]
  },
  {
   "cell_type": "code",
   "execution_count": 96,
   "id": "53f8411c",
   "metadata": {},
   "outputs": [
    {
     "name": "stdout",
     "output_type": "stream",
     "text": [
      "Updated string: AmiX\n"
     ]
    }
   ],
   "source": [
    "value = \"Amit\"\n",
    "list_value = list(value)\n",
    "new_value = 'X'  # The new value you want to insert\n",
    "list_value[3] = new_value\n",
    "string_value = ''.join(list_value)\n",
    "print(f\"Updated string: {string_value}\")"
   ]
  },
  {
   "cell_type": "code",
   "execution_count": 98,
   "id": "826bfeeb",
   "metadata": {},
   "outputs": [
    {
     "name": "stdout",
     "output_type": "stream",
     "text": [
      "First color: Red\n",
      "Last color: Black\n"
     ]
    }
   ],
   "source": [
    "color_list = [\"Red\",\"Green\",\"White\" ,\"Black\"]\n",
    "first_color=color_list[0]\n",
    "last_color=color_list[3]\n",
    "print(f\"First color: {first_color}\")\n",
    "print(f\"Last color: {last_color}\")"
   ]
  },
  {
   "cell_type": "code",
   "execution_count": 99,
   "id": "063dc467",
   "metadata": {},
   "outputs": [
    {
     "name": "stdout",
     "output_type": "stream",
     "text": [
      "First color: Red\n",
      "Last color: Black\n"
     ]
    }
   ],
   "source": [
    "color_list = [\"Red\",\"Green\",\"White\" ,\"Black\"]\n",
    "first_color=color_list[0]\n",
    "last_color=color_list[-1]\n",
    "print(f\"First color: {first_color}\")\n",
    "print(f\"Last color: {last_color}\")"
   ]
  },
  {
   "cell_type": "code",
   "execution_count": 100,
   "id": "92b3b863",
   "metadata": {},
   "outputs": [
    {
     "name": "stdout",
     "output_type": "stream",
     "text": [
      "The URL starts with 'https'.\n",
      "The email ends with '.com'.\n"
     ]
    }
   ],
   "source": [
    "def check_url_and_email(url, email):\n",
    "   \n",
    "    if url.startswith(\"https://\"):\n",
    "        print(\"The URL starts with 'https'.\")\n",
    "    else:\n",
    "        print(\"The URL does not start with 'https'.\")\n",
    "        \n",
    "    if email.endswith(\".com\"):\n",
    "        print(\"The email ends with '.com'.\")\n",
    "    else:\n",
    "        print(\"The email does not end with '.com'.\")\n",
    "        \n",
    "url = \"https://www.google.com/\"\n",
    "email = \"aimt4536@gmail.com\"\n",
    "\n",
    "check_url_and_email(url, email)\n"
   ]
  },
  {
   "cell_type": "code",
   "execution_count": null,
   "id": "c47743e2",
   "metadata": {},
   "outputs": [],
   "source": []
  }
 ],
 "metadata": {
  "kernelspec": {
   "display_name": "Python 3 (ipykernel)",
   "language": "python",
   "name": "python3"
  },
  "language_info": {
   "codemirror_mode": {
    "name": "ipython",
    "version": 3
   },
   "file_extension": ".py",
   "mimetype": "text/x-python",
   "name": "python",
   "nbconvert_exporter": "python",
   "pygments_lexer": "ipython3",
   "version": "3.9.13"
  }
 },
 "nbformat": 4,
 "nbformat_minor": 5
}
